{
  "cells": [
    {
      "cell_type": "markdown",
      "source": [
        "#**Exercício - Aula 2**"
      ],
      "metadata": {
        "id": "b_lUc0-cLsVn"
      },
      "id": "b_lUc0-cLsVn"
    },
    {
      "cell_type": "markdown",
      "source": [
        "Dado o dataset de produtos [1], você deverá desenvolver diferentes modelos para classificação de textos, envolvendo cenários diferentes. O dataset utilizado será o de classificação de produtos, utilizado na aula anterior.\n",
        "\n",
        "[1] - https://dados-ml-pln.s3-sa-east-1.amazonaws.com/produtos.csv\n",
        "\n",
        "Obs.: em todos os modelos use:\n",
        "- Remoção dos registros com valores faltantes\n",
        "- criem uma nova coluna concatenando as colunas nome e descrição.\n",
        "- randon_state igual a 42 para permitir a comparação com seus colegas e separe uma amostra de 30% para teste.\n",
        "- Nas partes 1 e 2, utilize sempre o mesmo algorítmo de classificação.\n",
        "- Para avaliação de resultados, sempre apresente o relatório de classificação e a matriz de confusão\n",
        "\n",
        "\n",
        "### Parte 1 - Diferentes tipos de vetorização sem processos de limpeza de texto\n",
        "\n",
        "Nesta parte você deverá aplicar apenas as seguintes técnicas:\n",
        "\n",
        "1. Remoção de pontuação\n",
        "2. Lowercasing\n",
        "3. Vetorização\n",
        "\n",
        "A partir daí, crie 3 datasets: BOW, TF e TF-IDF e treine um modelo de classificação para cada caso.\n",
        "\n",
        "Avalie os resultados comparando a performance de cada modelo e apresente suas conclusões\n",
        "\n",
        "### Parte 2 - Diferentes tipos de vetorização com um processo completo de normalização\n",
        "\n",
        "Nesta parte você deverá fazer uma exploração do dataset e aplicar as técnicas de normalização que julgar que trarão o melhor resultado na modelagem.\n",
        "\n",
        "A partir daí, crie 3 datasets: BOW, TF e TF-IDF e treine um modelo de classificação para cada caso.\n",
        "\n",
        "Avalie os resultados comparando a performance de cada modelo e apresente suas conclusões. Em suas análises, considere também os resultados obtidos na parte 1\n",
        "\n",
        "### Parte 3 (Extra) - Diferentes algorítmos de classificação\n",
        "\n",
        "Nesta parte você deverá selecionar um dos datasets criados na parte 2 (justifique) e treinar 3 modelos de classificação utilizando diferentes algorítmos. Seguem algumas sugestões de algorítimos:\n",
        "\n",
        "- Regressão Logistica (LogisticRegression)\n",
        "- Random Forest (RandomForestClassifier)\n",
        "- Naive Bayes (MultinomialNB e BernoulliNB)\n",
        "\n",
        "\n",
        "Avalie os resultados comparando a performance de cada modelo e apresente suas conclusões.\n",
        "\n",
        "### Parte 4 (Extra) - word2vec\n",
        "\n",
        "Você deverá treinar o modelo de classificação do dataset de produtos utilizando a abordagem de classificação com word2vec pela representação do vetor médio.\n",
        "\n"
      ],
      "metadata": {
        "id": "i9jiVrQi-al0"
      },
      "id": "i9jiVrQi-al0"
    },
    {
      "cell_type": "markdown",
      "source": [
        "## **Parte 1**"
      ],
      "metadata": {
        "id": "fRW7Bp3Z1SVg"
      },
      "id": "fRW7Bp3Z1SVg"
    },
    {
      "cell_type": "code",
      "source": [
        "# Pacotes utilizados\n",
        "import pandas as pd\n",
        "from sklearn.model_selection import train_test_split\n",
        "\n",
        "# carregar dataframe\n",
        "df = pd.read_csv(\"https://dados-ml-pln.s3-sa-east-1.amazonaws.com/produtos.csv\", delimiter=\";\", encoding='utf-8')\n",
        "\n",
        "# limpeza inicial (normalização)\n",
        "df.dropna(inplace=True)\n",
        "df[\"texto\"] = df['nome'] + \" \" + df['descricao']\n",
        "\n",
        "# divisão da amostra entre treino e teste\n",
        "df_train, df_test = train_test_split(\n",
        "      df,\n",
        "      test_size = 0.3,\n",
        "      random_state = 42\n",
        "  )"
      ],
      "metadata": {
        "id": "--OueoSE2ThY"
      },
      "id": "--OueoSE2ThY",
      "execution_count": 1,
      "outputs": []
    },
    {
      "cell_type": "code",
      "source": [
        "from sklearn.feature_extraction.text import CountVectorizer, TfidfVectorizer\n",
        "from sklearn.naive_bayes import MultinomialNB\n",
        "from sklearn.metrics import accuracy_score, classification_report\n",
        "from sklearn.metrics import confusion_matrix\n",
        "import seaborn as sns\n",
        "import matplotlib.pyplot as plt\n",
        "\n",
        "\n",
        "# Remover pontuações e aplicar lowercasing\n",
        "def preprocess_text(text):\n",
        "    text = text.lower()  # Lowercasing\n",
        "    text = ''.join([char for char in text if char.isalnum() or char.isspace()])  # Remoção de pontuação\n",
        "    return text\n",
        "\n",
        "# Aplicando tratamento aos datasets de treino e teste\n",
        "df_train['texto'] = df_train['texto'].apply(preprocess_text)\n",
        "df_test['texto'] = df_test['texto'].apply(preprocess_text)\n",
        "\n",
        "# Vetorização usando BOW\n",
        "vectorizer_bow = CountVectorizer()\n",
        "X_train_bow = vectorizer_bow.fit_transform(df_train['texto'])\n",
        "X_test_bow = vectorizer_bow.transform(df_test['texto'])\n",
        "\n",
        "# Vetorização usando TF\n",
        "vectorizer_tf = TfidfVectorizer(use_idf=False)\n",
        "X_train_tf = vectorizer_tf.fit_transform(df_train['texto'])\n",
        "X_test_tf = vectorizer_tf.transform(df_test['texto'])\n",
        "\n",
        "# Vetorização usando TF-IDF\n",
        "vectorizer_tfidf = TfidfVectorizer()\n",
        "X_train_tfidf = vectorizer_tfidf.fit_transform(df_train['texto'])\n",
        "X_test_tfidf = vectorizer_tfidf.transform(df_test['texto'])\n",
        "\n",
        "# Treinamento dos modelos\n",
        "model_bow = MultinomialNB()\n",
        "model_bow.fit(X_train_bow, df_train['categoria'])\n",
        "pred_bow = model_bow.predict(X_test_bow)\n",
        "\n",
        "model_tf = MultinomialNB()\n",
        "model_tf.fit(X_train_tf, df_train['categoria'])\n",
        "pred_tf = model_tf.predict(X_test_tf)\n",
        "\n",
        "model_tfidf = MultinomialNB()\n",
        "model_tfidf.fit(X_train_tfidf, df_train['categoria'])\n",
        "pred_tfidf = model_tfidf.predict(X_test_tfidf)\n",
        "\n",
        "# Avaliação dos resultados\n",
        "acc_bow = accuracy_score(df_test['categoria'], pred_bow)\n",
        "acc_tf = accuracy_score(df_test['categoria'], pred_tf)\n",
        "acc_tfidf = accuracy_score(df_test['categoria'], pred_tfidf)\n",
        "\n",
        "#Comparação de performance\n",
        "print(\"Acurácia BOW:\", acc_bow)\n",
        "print(\"Acurácia TF:\", acc_tf)\n",
        "print(\"Acurácia TF-IDF:\", acc_tfidf)\n",
        "\n",
        "#Relatório de Classificação\n",
        "print(\"\\nRelatório de Classificação BOW:\\n\", classification_report(df_test['categoria'], pred_bow))\n",
        "print(\"\\nRelatório de Classificação TF:\\n\", classification_report(df_test['categoria'], pred_tf))\n",
        "print(\"\\nRelatório de Classificação TF-IDF:\\n\", classification_report(df_test['categoria'], pred_tfidf))\n",
        "\n",
        "# Função para plotar matriz de confusão\n",
        "def plot_confusion_matrix(y_true, y_pred, labels):\n",
        "    cm = confusion_matrix(y_true, y_pred, labels=labels)\n",
        "    sns.heatmap(cm, annot=True, fmt='d', cmap='Blues', xticklabels=labels, yticklabels=labels)\n",
        "    plt.xlabel('Predito')\n",
        "    plt.ylabel('Real')\n",
        "    plt.title('Matriz de Confusão')\n",
        "    plt.show()"
      ],
      "metadata": {
        "id": "OLJ8He3I4bQq",
        "outputId": "b16dbb66-408f-43f4-c91f-8aa2aa57bed4",
        "colab": {
          "base_uri": "https://localhost:8080/"
        }
      },
      "id": "OLJ8He3I4bQq",
      "execution_count": 2,
      "outputs": [
        {
          "output_type": "stream",
          "name": "stdout",
          "text": [
            "Acurácia BOW: 0.9794285714285714\n",
            "Acurácia TF: 0.9348571428571428\n",
            "Acurácia TF-IDF: 0.9645714285714285\n",
            "\n",
            "Relatório de Classificação BOW:\n",
            "               precision    recall  f1-score   support\n",
            "\n",
            "   brinquedo       0.99      0.95      0.97       190\n",
            "        game       0.95      0.99      0.97       194\n",
            "       livro       0.99      0.97      0.98       261\n",
            "   maquiagem       0.99      1.00      0.99       230\n",
            "\n",
            "    accuracy                           0.98       875\n",
            "   macro avg       0.98      0.98      0.98       875\n",
            "weighted avg       0.98      0.98      0.98       875\n",
            "\n",
            "\n",
            "Relatório de Classificação TF:\n",
            "               precision    recall  f1-score   support\n",
            "\n",
            "   brinquedo       0.99      0.82      0.89       190\n",
            "        game       0.91      0.92      0.92       194\n",
            "       livro       0.89      0.98      0.93       261\n",
            "   maquiagem       0.98      1.00      0.99       230\n",
            "\n",
            "    accuracy                           0.93       875\n",
            "   macro avg       0.94      0.93      0.93       875\n",
            "weighted avg       0.94      0.93      0.93       875\n",
            "\n",
            "\n",
            "Relatório de Classificação TF-IDF:\n",
            "               precision    recall  f1-score   support\n",
            "\n",
            "   brinquedo       0.99      0.88      0.93       190\n",
            "        game       0.92      0.99      0.96       194\n",
            "       livro       0.97      0.98      0.97       261\n",
            "   maquiagem       0.98      1.00      0.99       230\n",
            "\n",
            "    accuracy                           0.96       875\n",
            "   macro avg       0.97      0.96      0.96       875\n",
            "weighted avg       0.97      0.96      0.96       875\n",
            "\n"
          ]
        }
      ]
    },
    {
      "cell_type": "code",
      "source": [
        "# Matriz de confusão para BOW\n",
        "plot_confusion_matrix(df_test['categoria'], pred_bow, labels=df['categoria'].unique())"
      ],
      "metadata": {
        "id": "yEuaGdH3Qep_",
        "outputId": "5e829774-e464-42a3-be68-425984aa6084",
        "colab": {
          "base_uri": "https://localhost:8080/",
          "height": 472
        }
      },
      "id": "yEuaGdH3Qep_",
      "execution_count": 3,
      "outputs": [
        {
          "output_type": "display_data",
          "data": {
            "text/plain": [
              "<Figure size 640x480 with 2 Axes>"
            ],
            "image/png": "[encoded data removed]"
          },
          "metadata": {}
        }
      ]
    },
    {
      "cell_type": "code",
      "source": [
        "# Matriz de confusão para TF\n",
        "plot_confusion_matrix(df_test['categoria'], pred_tf, labels=df['categoria'].unique())"
      ],
      "metadata": {
        "id": "lRtZqsqbQo9e",
        "outputId": "3e4966e7-12d3-467f-b81f-cdc241727b1b",
        "colab": {
          "base_uri": "https://localhost:8080/",
          "height": 472
        }
      },
      "id": "lRtZqsqbQo9e",
      "execution_count": 4,
      "outputs": [
        {
          "output_type": "display_data",
          "data": {
            "text/plain": [
              "<Figure size 640x480 with 2 Axes>"
            ],
            "image/png": "[encoded data removed]"
          },
          "metadata": {}
        }
      ]
    },
    {
      "cell_type": "code",
      "source": [
        "# Matriz de confusão para TF-IDF\n",
        "plot_confusion_matrix(df_test['categoria'], pred_tfidf, labels=df['categoria'].unique())"
      ],
      "metadata": {
        "id": "b5GT1s7XQppu",
        "outputId": "35089d2b-a784-4afa-ed2d-b769974e6424",
        "colab": {
          "base_uri": "https://localhost:8080/",
          "height": 472
        }
      },
      "id": "b5GT1s7XQppu",
      "execution_count": 5,
      "outputs": [
        {
          "output_type": "display_data",
          "data": {
            "text/plain": [
              "<Figure size 640x480 with 2 Axes>"
            ],
            "image/png": "[encoded data removed]"
          },
          "metadata": {}
        }
      ]
    },
    {
      "cell_type": "markdown",
      "source": [
        "## **Parte 2**"
      ],
      "metadata": {
        "id": "jk-ZGn_R1R3t"
      },
      "id": "jk-ZGn_R1R3t"
    },
    {
      "cell_type": "code",
      "source": [
        "from sklearn.feature_extraction.text import CountVectorizer\n",
        "from sklearn.naive_bayes import MultinomialNB\n",
        "from sklearn.metrics import accuracy_score, classification_report\n",
        "from sklearn.model_selection import train_test_split\n",
        "from sklearn.feature_extraction.text import TfidfVectorizer\n",
        "from sklearn.pipeline import Pipeline\n",
        "from sklearn.feature_extraction.text import strip_accents_ascii\n",
        "from sklearn.model_selection import GridSearchCV\n",
        "from sklearn.feature_extraction.text import TfidfTransformer\n",
        "import pandas as pd\n",
        "import nltk\n",
        "from nltk.corpus import stopwords\n",
        "from nltk.stem import RSLPStemmer  # português\n",
        "from nltk.tokenize import word_tokenize\n",
        "\n",
        "# Download dos recursos do NLTK\n",
        "nltk.download('punkt')\n",
        "nltk.download('stopwords')\n",
        "nltk.download('rslp')\n",
        "\n",
        "# Remoção de Stop Words e aplicação de outras técnicas de normalização\n",
        "stop_words = set(stopwords.words('portuguese'))\n",
        "\n",
        "# Função para remoção de stop words, stemming e remoção de palavras muito frequentes/muito raras\n",
        "def preprocess_text_advanced(text, df):\n",
        "    stop_words = set(stopwords.words('portuguese'))\n",
        "    stemmer = RSLPStemmer()\n",
        "\n",
        "    # Tokenização\n",
        "    words = word_tokenize(text)\n",
        "\n",
        "    # Remoção de stop words\n",
        "    words = [word for word in words if word.lower() not in stop_words]\n",
        "\n",
        "    # Stemming\n",
        "    words = [stemmer.stem(word) for word in words]\n",
        "\n",
        "    # Remoção de palavras muito frequentes novamente se necessário\n",
        "    freq_words = pd.Series(' '.join(df['texto']).split()).value_counts()\n",
        "    rare_words = freq_words[freq_words <= 5].index\n",
        "    words = [word for word in words if word not in rare_words]\n",
        "\n",
        "    return ' '.join(words)\n",
        "\n",
        "# Aplicar preprocess_text_advanced aos datasets de treino e teste\n",
        "df_train['texto_normalized_advanced'] = df_train['texto'].apply(lambda x: preprocess_text_advanced(x, df_train))\n",
        "df_test['texto_normalized_advanced'] = df_test['texto'].apply(lambda x: preprocess_text_advanced(x, df_test))\n",
        "\n",
        "# Vetorização usando BOW com pipeline para normalização\n",
        "pipeline_bow_advanced = Pipeline([\n",
        "    ('vect', CountVectorizer(strip_accents=strip_accents_ascii)),\n",
        "    ('clf', MultinomialNB())\n",
        "])\n",
        "\n",
        "# Vetorização usando TF com pipeline para normalização\n",
        "pipeline_tf_advanced = Pipeline([\n",
        "    ('vect', TfidfVectorizer(use_idf=False, strip_accents=strip_accents_ascii)),\n",
        "    ('clf', MultinomialNB())\n",
        "])\n",
        "\n",
        "# Vetorização usando TF-IDF com pipeline para normalização\n",
        "pipeline_tfidf_advanced = Pipeline([\n",
        "    ('vect', TfidfVectorizer(strip_accents=strip_accents_ascii)),\n",
        "    ('clf', MultinomialNB())\n",
        "])\n",
        "\n",
        "# Parâmetros para Grid Search\n",
        "parameters = {\n",
        "    'vect__ngram_range': [(1, 1), (1, 2)],\n",
        "    'vect__min_df': [1, 2, 3],\n",
        "}\n",
        "\n",
        "# Busca em grade para BOW\n",
        "grid_search_bow_advanced = GridSearchCV(pipeline_bow_advanced, parameters, n_jobs=-1, verbose=1)\n",
        "grid_search_bow_advanced.fit(df_train['texto_normalized_advanced'], df_train['categoria'])\n",
        "pred_bow_advanced = grid_search_bow_advanced.predict(df_test['texto_normalized_advanced'])\n",
        "\n",
        "# Busca em grade para TF\n",
        "grid_search_tf_advanced = GridSearchCV(pipeline_tf_advanced, parameters, n_jobs=-1, verbose=1)\n",
        "grid_search_tf_advanced.fit(df_train['texto_normalized_advanced'], df_train['categoria'])\n",
        "pred_tf_advanced = grid_search_tf_advanced.predict(df_test['texto_normalized_advanced'])\n",
        "\n",
        "# Busca em grade para TF-IDF\n",
        "grid_search_tfidf_advanced = GridSearchCV(pipeline_tfidf_advanced, parameters, n_jobs=-1, verbose=1)\n",
        "grid_search_tfidf_advanced.fit(df_train['texto_normalized_advanced'], df_train['categoria'])\n",
        "pred_tfidf_advanced = grid_search_tfidf_advanced.predict(df_test['texto_normalized_advanced'])\n",
        "\n",
        "# Avaliação dos resultados após normalização\n",
        "acc_bow_advanced = accuracy_score(df_test['categoria'], pred_bow_advanced)\n",
        "acc_tf_advanced = accuracy_score(df_test['categoria'], pred_tf_advanced)\n",
        "acc_tfidf_advanced = accuracy_score(df_test['categoria'], pred_tfidf_advanced)\n",
        "\n",
        "print(\"Acurácia BOW (com normalização avançada):\", acc_bow_advanced)\n",
        "print(\"Acurácia TF (com normalização avançada):\", acc_tf_advanced)\n",
        "print(\"Acurácia TF-IDF (com normalização avançada):\", acc_tfidf_advanced)\n",
        "\n",
        "print(\"\\nRelatório de Classificação BOW (com normalização avançada):\\n\", classification_report(df_test['categoria'], pred_bow_advanced))\n",
        "print(\"\\nRelatório de Classificação TF (com normalização avançada):\\n\", classification_report(df_test['categoria'], pred_tf_advanced))\n",
        "print(\"\\nRelatório de Classificação TF-IDF (com normalização avançada):\\n\", classification_report(df_test['categoria'], pred_tfidf_advanced))\n",
        "\n",
        "# Cria uma nova coluna 'texto_normalized' no DataFrame\n",
        "df_train['texto_normalized'] = df_train['texto'].apply(preprocess_text)\n",
        "df_test['texto_normalized'] = df_test['texto'].apply(preprocess_text)\n",
        "\n",
        "# Vetorização usando BOW com pipeline para normalização\n",
        "pipeline_bow = Pipeline([\n",
        "    ('vect', CountVectorizer(stop_words=stop_words, strip_accents=strip_accents_ascii)),\n",
        "    ('clf', MultinomialNB())\n",
        "])\n",
        "\n",
        "# Vetorização usando TF com pipeline para normalização\n",
        "pipeline_tf = Pipeline([\n",
        "    ('vect', TfidfVectorizer(use_idf=False, stop_words=stop_words, strip_accents=strip_accents_ascii)),\n",
        "    ('clf', MultinomialNB())\n",
        "])\n",
        "\n",
        "# Vetorização usando TF-IDF com pipeline para normalização\n",
        "pipeline_tfidf = Pipeline([\n",
        "    ('vect', TfidfVectorizer(stop_words=stop_words, strip_accents=strip_accents_ascii)),\n",
        "    ('clf', MultinomialNB())\n",
        "])\n",
        "\n",
        "# Parâmetros para Grid Search\n",
        "parameters = {\n",
        "    'vect__ngram_range': [(1, 1), (1, 2)],\n",
        "    'vect__min_df': [1, 2, 3],\n",
        "}\n",
        "\n",
        "# Busca em grade para BOW\n",
        "grid_search_bow_advanced = GridSearchCV(pipeline_bow_advanced, parameters, n_jobs=-1, verbose=1)\n",
        "grid_search_bow_advanced.fit(df_train['texto_normalized_advanced'], df_train['categoria'])\n",
        "pred_bow_advanced = grid_search_bow_advanced.predict(df_test['texto_normalized_advanced'])\n",
        "\n",
        "# Busca em grade para TF\n",
        "grid_search_tf_advanced = GridSearchCV(pipeline_tf_advanced, parameters, n_jobs=-1, verbose=1)\n",
        "grid_search_tf_advanced.fit(df_train['texto_normalized_advanced'], df_train['categoria'])\n",
        "pred_tf_advanced = grid_search_tf_advanced.predict(df_test['texto_normalized_advanced'])\n",
        "\n",
        "# Busca em grade para TF-IDF\n",
        "grid_search_tfidf_advanced = GridSearchCV(pipeline_tfidf_advanced, parameters, n_jobs=-1, verbose=1)\n",
        "grid_search_tfidf_advanced.fit(df_train['texto_normalized_advanced'], df_train['categoria'])\n",
        "pred_tfidf_advanced = grid_search_tfidf_advanced.predict(df_test['texto_normalized_advanced'])\n",
        "\n",
        "# Avaliação dos resultados após normalização\n",
        "acc_bow_advanced = accuracy_score(df_test['categoria'], pred_bow_advanced)\n",
        "acc_tf_normalized = accuracy_score(df_test['categoria'], pred_tf_advanced)\n",
        "acc_tfidf_normalized = accuracy_score(df_test['categoria'], pred_tfidf_advanced)\n",
        "\n",
        "print(\"Acurácia BOW (com normalização avançada):\", acc_bow_advanced)\n",
        "print(\"Acurácia TF (com normalização avançada):\", acc_tf_normalized)\n",
        "print(\"Acurácia TF-IDF (com normalização avançada):\", acc_tfidf_normalized)\n",
        "\n",
        "print(\"\\nRelatório de Classificação BOW (com normalização avançada):\\n\", classification_report(df_test['categoria'], pred_bow_advanced))\n",
        "print(\"\\nRelatório de Classificação TF (com normalização avançada):\\n\", classification_report(df_test['categoria'], pred_tf_advanced))\n",
        "print(\"\\nRelatório de Classificação TF-IDF (com normalização avançada):\\n\", classification_report(df_test['categoria'], pred_tfidf_advanced))\n",
        "\n"
      ],
      "metadata": {
        "colab": {
          "base_uri": "https://localhost:8080/"
        },
        "id": "78FTGT0F7Flx",
        "outputId": "58944ce9-aa55-4a0c-b333-5cd6bb1d3c3e"
      },
      "id": "78FTGT0F7Flx",
      "execution_count": 6,
      "outputs": [
        {
          "output_type": "stream",
          "name": "stderr",
          "text": [
            "[nltk_data] Downloading package punkt to /root/nltk_data...\n",
            "[nltk_data]   Package punkt is already up-to-date!\n",
            "[nltk_data] Downloading package stopwords to /root/nltk_data...\n",
            "[nltk_data]   Package stopwords is already up-to-date!\n",
            "[nltk_data] Downloading package rslp to /root/nltk_data...\n",
            "[nltk_data]   Package rslp is already up-to-date!\n"
          ]
        },
        {
          "output_type": "stream",
          "name": "stdout",
          "text": [
            "Fitting 5 folds for each of 6 candidates, totalling 30 fits\n",
            "Fitting 5 folds for each of 6 candidates, totalling 30 fits\n",
            "Fitting 5 folds for each of 6 candidates, totalling 30 fits\n",
            "Acurácia BOW (com normalização avançada): 0.9782857142857143\n",
            "Acurácia TF (com normalização avançada): 0.9702857142857143\n",
            "Acurácia TF-IDF (com normalização avançada): 0.9737142857142858\n",
            "\n",
            "Relatório de Classificação BOW (com normalização avançada):\n",
            "               precision    recall  f1-score   support\n",
            "\n",
            "   brinquedo       1.00      0.93      0.96       190\n",
            "        game       0.95      1.00      0.97       194\n",
            "       livro       0.98      0.98      0.98       261\n",
            "   maquiagem       0.98      1.00      0.99       230\n",
            "\n",
            "    accuracy                           0.98       875\n",
            "   macro avg       0.98      0.98      0.98       875\n",
            "weighted avg       0.98      0.98      0.98       875\n",
            "\n",
            "\n",
            "Relatório de Classificação TF (com normalização avançada):\n",
            "               precision    recall  f1-score   support\n",
            "\n",
            "   brinquedo       0.99      0.92      0.95       190\n",
            "        game       0.93      0.98      0.96       194\n",
            "       livro       0.98      0.97      0.97       261\n",
            "   maquiagem       0.98      1.00      0.99       230\n",
            "\n",
            "    accuracy                           0.97       875\n",
            "   macro avg       0.97      0.97      0.97       875\n",
            "weighted avg       0.97      0.97      0.97       875\n",
            "\n",
            "\n",
            "Relatório de Classificação TF-IDF (com normalização avançada):\n",
            "               precision    recall  f1-score   support\n",
            "\n",
            "   brinquedo       0.98      0.94      0.96       190\n",
            "        game       0.94      0.97      0.96       194\n",
            "       livro       0.98      0.98      0.98       261\n",
            "   maquiagem       0.99      1.00      0.99       230\n",
            "\n",
            "    accuracy                           0.97       875\n",
            "   macro avg       0.97      0.97      0.97       875\n",
            "weighted avg       0.97      0.97      0.97       875\n",
            "\n",
            "Fitting 5 folds for each of 6 candidates, totalling 30 fits\n",
            "Fitting 5 folds for each of 6 candidates, totalling 30 fits\n",
            "Fitting 5 folds for each of 6 candidates, totalling 30 fits\n",
            "Acurácia BOW (com normalização avançada): 0.9782857142857143\n",
            "Acurácia TF (com normalização avançada): 0.9702857142857143\n",
            "Acurácia TF-IDF (com normalização avançada): 0.9737142857142858\n",
            "\n",
            "Relatório de Classificação BOW (com normalização avançada):\n",
            "               precision    recall  f1-score   support\n",
            "\n",
            "   brinquedo       1.00      0.93      0.96       190\n",
            "        game       0.95      1.00      0.97       194\n",
            "       livro       0.98      0.98      0.98       261\n",
            "   maquiagem       0.98      1.00      0.99       230\n",
            "\n",
            "    accuracy                           0.98       875\n",
            "   macro avg       0.98      0.98      0.98       875\n",
            "weighted avg       0.98      0.98      0.98       875\n",
            "\n",
            "\n",
            "Relatório de Classificação TF (com normalização avançada):\n",
            "               precision    recall  f1-score   support\n",
            "\n",
            "   brinquedo       0.99      0.92      0.95       190\n",
            "        game       0.93      0.98      0.96       194\n",
            "       livro       0.98      0.97      0.97       261\n",
            "   maquiagem       0.98      1.00      0.99       230\n",
            "\n",
            "    accuracy                           0.97       875\n",
            "   macro avg       0.97      0.97      0.97       875\n",
            "weighted avg       0.97      0.97      0.97       875\n",
            "\n",
            "\n",
            "Relatório de Classificação TF-IDF (com normalização avançada):\n",
            "               precision    recall  f1-score   support\n",
            "\n",
            "   brinquedo       0.98      0.94      0.96       190\n",
            "        game       0.94      0.97      0.96       194\n",
            "       livro       0.98      0.98      0.98       261\n",
            "   maquiagem       0.99      1.00      0.99       230\n",
            "\n",
            "    accuracy                           0.97       875\n",
            "   macro avg       0.97      0.97      0.97       875\n",
            "weighted avg       0.97      0.97      0.97       875\n",
            "\n"
          ]
        }
      ]
    },
    {
      "cell_type": "markdown",
      "source": [
        "## **Parte 3 (Extra)**"
      ],
      "metadata": {
        "id": "FtMfmwTa1ReE"
      },
      "id": "FtMfmwTa1ReE"
    },
    {
      "cell_type": "code",
      "source": [
        "from sklearn.feature_extraction.text import TfidfVectorizer\n",
        "from sklearn.linear_model import LogisticRegression\n",
        "from sklearn.ensemble import RandomForestClassifier\n",
        "from sklearn.naive_bayes import MultinomialNB\n",
        "from sklearn.metrics import accuracy_score, classification_report\n",
        "\n",
        "X_train_text = df_train['texto_normalized_advanced']\n",
        "X_test_text = df_test['texto_normalized_advanced']\n",
        "\n",
        "# Vetorização usando TF-IDF\n",
        "vectorizer = TfidfVectorizer(strip_accents=strip_accents_ascii)\n",
        "X_train_tfidf = vectorizer.fit_transform(X_train_text)\n",
        "X_test_tfidf = vectorizer.transform(X_test_text)\n",
        "\n",
        "# Modelos\n",
        "logistic_model = LogisticRegression()\n",
        "random_forest_model = RandomForestClassifier()\n",
        "naive_bayes_model = MultinomialNB()\n",
        "\n",
        "# Treinamento dos modelos\n",
        "logistic_model.fit(X_train_tfidf, df_train['categoria'])\n",
        "random_forest_model.fit(X_train_tfidf, df_train['categoria'])\n",
        "naive_bayes_model.fit(X_train_tfidf, df_train['categoria'])\n",
        "\n",
        "# Previsões\n",
        "pred_logistic = logistic_model.predict(X_test_tfidf)\n",
        "pred_random_forest = random_forest_model.predict(X_test_tfidf)\n",
        "pred_naive_bayes = naive_bayes_model.predict(X_test_tfidf)\n",
        "\n",
        "# Avaliação dos resultados\n",
        "acc_logistic = accuracy_score(df_test['categoria'], pred_logistic)\n",
        "acc_random_forest = accuracy_score(df_test['categoria'], pred_random_forest)\n",
        "acc_naive_bayes = accuracy_score(df_test['categoria'], pred_naive_bayes)\n",
        "\n",
        "print(\"Acurácia Regressão Logística:\", acc_logistic)\n",
        "print(\"Acurácia Random Forest:\", acc_random_forest)\n",
        "print(\"Acurácia Naive Bayes:\", acc_naive_bayes)\n",
        "\n",
        "print(\"\\nRelatório de Classificação Regressão Logística:\\n\", classification_report(df_test['categoria'], pred_logistic))\n",
        "print(\"\\nRelatório de Classificação Random Forest:\\n\", classification_report(df_test['categoria'], pred_random_forest))\n",
        "print(\"\\nRelatório de Classificação Naive Bayes:\\n\", classification_report(df_test['categoria'], pred_naive_bayes))\n"
      ],
      "metadata": {
        "colab": {
          "base_uri": "https://localhost:8080/"
        },
        "id": "Vo_aa8quUVzI",
        "outputId": "8d039ae8-0ed3-4794-efe3-db85cad6b49a"
      },
      "id": "Vo_aa8quUVzI",
      "execution_count": 9,
      "outputs": [
        {
          "output_type": "stream",
          "name": "stdout",
          "text": [
            "Acurácia Regressão Logística: 0.984\n",
            "Acurácia Random Forest: 0.9851428571428571\n",
            "Acurácia Naive Bayes: 0.9714285714285714\n",
            "\n",
            "Relatório de Classificação Regressão Logística:\n",
            "               precision    recall  f1-score   support\n",
            "\n",
            "   brinquedo       0.97      0.97      0.97       190\n",
            "        game       0.97      0.98      0.97       194\n",
            "       livro       0.99      0.99      0.99       261\n",
            "   maquiagem       1.00      1.00      1.00       230\n",
            "\n",
            "    accuracy                           0.98       875\n",
            "   macro avg       0.98      0.98      0.98       875\n",
            "weighted avg       0.98      0.98      0.98       875\n",
            "\n",
            "\n",
            "Relatório de Classificação Random Forest:\n",
            "               precision    recall  f1-score   support\n",
            "\n",
            "   brinquedo       0.98      0.96      0.97       190\n",
            "        game       0.99      0.99      0.99       194\n",
            "       livro       0.99      0.98      0.98       261\n",
            "   maquiagem       0.98      1.00      0.99       230\n",
            "\n",
            "    accuracy                           0.99       875\n",
            "   macro avg       0.99      0.98      0.98       875\n",
            "weighted avg       0.99      0.99      0.99       875\n",
            "\n",
            "\n",
            "Relatório de Classificação Naive Bayes:\n",
            "               precision    recall  f1-score   support\n",
            "\n",
            "   brinquedo       0.99      0.92      0.95       190\n",
            "        game       0.94      0.98      0.96       194\n",
            "       livro       0.97      0.98      0.98       261\n",
            "   maquiagem       0.99      1.00      0.99       230\n",
            "\n",
            "    accuracy                           0.97       875\n",
            "   macro avg       0.97      0.97      0.97       875\n",
            "weighted avg       0.97      0.97      0.97       875\n",
            "\n"
          ]
        }
      ]
    },
    {
      "cell_type": "markdown",
      "source": [
        "Analisando os resultados é possivel verificar que as métricas dos 3 modelos ficaram muito próximas."
      ],
      "metadata": {
        "id": "xcDtdAo5VAc3"
      },
      "id": "xcDtdAo5VAc3"
    },
    {
      "cell_type": "markdown",
      "source": [
        "# **Parte 4 (Extra)**"
      ],
      "metadata": {
        "id": "rwT17PChVdhP"
      },
      "id": "rwT17PChVdhP"
    },
    {
      "cell_type": "code",
      "source": [
        "import pandas as pd\n",
        "from gensim.models import Word2Vec\n",
        "from sklearn.model_selection import train_test_split\n",
        "from sklearn.linear_model import LogisticRegression\n",
        "from sklearn.metrics import accuracy_score, classification_report\n",
        "from nltk.tokenize import word_tokenize\n",
        "import nltk\n",
        "\n",
        "# Tokenização\n",
        "tokenized_text = [word_tokenize(text.lower()) for text in df_train['texto']]\n",
        "\n",
        "# Treinamento do modelo Word2Vec\n",
        "word2vec_model = Word2Vec(sentences=tokenized_text, vector_size=100, window=5, min_count=1, workers=4)\n",
        "\n",
        "# Função para obter o vetor médio do documento\n",
        "def get_doc_vector(tokens, model, vector_size):\n",
        "    vectors = [model.wv[token] for token in tokens if token in model.wv]\n",
        "    if not vectors:\n",
        "        return [0] * vector_size\n",
        "    return list(pd.DataFrame(vectors).mean())\n",
        "\n",
        "# Aplicar a função para obter vetores médios nos conjuntos de treino e teste\n",
        "df_train['word2vec_vector'] = df_train['texto'].apply(lambda x: get_doc_vector(word_tokenize(x.lower()), word2vec_model, 100))\n",
        "df_test['word2vec_vector'] = df_test['texto'].apply(lambda x: get_doc_vector(word_tokenize(x.lower()), word2vec_model, 100))\n",
        "\n",
        "# Convertendo os vetores em listas\n",
        "X_train = list(df_train['word2vec_vector'])\n",
        "X_test = list(df_test['word2vec_vector'])\n",
        "y_train = df_train['categoria_id']\n",
        "y_test = df_test['categoria_id']\n",
        "\n",
        "# Treinamento do modelo de classificação (Regressão Logística)\n",
        "word2vec_model = LogisticRegression(max_iter=1000)\n",
        "word2vec_model.fit(X_train, y_train)\n",
        "\n",
        "# Previsões\n",
        "pred_word2vec = word2vec_model.predict(X_test)\n",
        "\n",
        "# Avaliação dos resultados\n",
        "acc_word2vec = accuracy_score(y_test, pred_word2vec)\n",
        "\n",
        "print(\"Acurácia Word2Vec:\", acc_word2vec)\n",
        "print(\"\\nRelatório de Classificação Word2Vec:\\n\", classification_report(y_test, pred_word2vec))\n"
      ],
      "metadata": {
        "colab": {
          "base_uri": "https://localhost:8080/"
        },
        "id": "dqNXtJ1_Vhpu",
        "outputId": "c68e5817-7d6e-4139-cdf1-5e5875a49d25"
      },
      "id": "dqNXtJ1_Vhpu",
      "execution_count": 12,
      "outputs": [
        {
          "output_type": "stream",
          "name": "stdout",
          "text": [
            "Acurácia Word2Vec: 0.8994285714285715\n",
            "\n",
            "Relatório de Classificação Word2Vec:\n",
            "               precision    recall  f1-score   support\n",
            "\n",
            "           0       0.86      0.82      0.84       190\n",
            "           1       0.89      0.88      0.89       194\n",
            "           2       0.95      0.94      0.95       261\n",
            "           3       0.88      0.93      0.91       230\n",
            "\n",
            "    accuracy                           0.90       875\n",
            "   macro avg       0.90      0.89      0.89       875\n",
            "weighted avg       0.90      0.90      0.90       875\n",
            "\n"
          ]
        }
      ]
    }
  ],
  "metadata": {
    "kernelspec": {
      "display_name": "Python 3 (ipykernel)",
      "language": "python",
      "name": "python3"
    },
    "language_info": {
      "codemirror_mode": {
        "name": "ipython",
        "version": 3
      },
      "file_extension": ".py",
      "mimetype": "text/x-python",
      "name": "python",
      "nbconvert_exporter": "python",
      "pygments_lexer": "ipython3",
      "version": "3.9.12"
    },
    "colab": {
      "provenance": []
    }
  },
  "nbformat": 4,
  "nbformat_minor": 5
}